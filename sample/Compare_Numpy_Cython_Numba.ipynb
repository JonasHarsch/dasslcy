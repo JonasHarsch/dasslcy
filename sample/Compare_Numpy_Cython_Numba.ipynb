{
 "cells": [
  {
   "cell_type": "markdown",
   "metadata": {},
   "source": [
    "# Comparing Cython, Numpy and Numba for a PFR Distributed Model\n",
    "\n",
    "## The model\n",
    "\n",
    "Consider a simple PFR reactor as follows:\n",
    "\n",
    "![](pfr_scheme.png)\n",
    "\n",
    "The concentration inside the reactor can be described in the position $z$ and time $t$ by the partial differential equation:\n",
    "\n",
    "$$\\frac{\\partial C(t,z)}{\\partial t} + v_z \\frac{\\partial C(t,z)}{\\partial z} - D \\frac{\\partial^2 C(t,z)}{\\partial t^2} - r(t,z) = 0$$\n",
    "\n",
    "$$C(0,z) = C_{ini}(z)$$\n",
    "\n",
    "$$C(t,0) - \\frac{D}{v_z}\\frac{d C(t,z)}{dz}\\Big\\vert_{z=0} = C_f(t)$$\n",
    "\n",
    "$$\\frac{D}{v_z}\\frac{d C(t,z)}{dz}\\Big\\vert_{z=L} = 0$$\n",
    "\n",
    "An approach to solve this PDE is discretizing the $z$ domain and approximating the derivatives using finite differences. Doing so we obtain the final set of equation as an ordinary differential equation set in the form $\\frac{d \\mathbf{C}}{d t} = f(\\mathbf{C})$.\n",
    "\n",
    "$$\\frac{dC_1(t)}{dt} = \\frac{D}{h^2}(C_2 - 2C_1 + C_0) - \\frac{v_z}{2h}(C_2-C_0) + r_1$$\n",
    "\n",
    "$$\\frac{dC_i(t)}{dt} = \\frac{D}{h^2}(C_{i+1} - 2C_{i} + C_{i-1}) - \\frac{v_z}{2h}(C_{i+1}-C_{i-1}) + r_{i} \\text{ for } i=2,\\ldots, N-1 $$ \n",
    "\n",
    "$$\\frac{dC_N(t)}{dt} = \\frac{D}{h^2}(C_{N+1} - 2C_{N} + C_{N-1}) - \\frac{v_z}{2h}(C_{N+1}-C_{N-1}) + r_{N}$$\n",
    "\n",
    "with:\n",
    "\n",
    "$$C_0 = \\left( 1 + \\frac{D}{v_z h}\\right)^{-1}\\left(\\frac{D}{v_z h} C_1 + C_f \\right)$$\n",
    "\n",
    "$$C_{N+1}=C_N$$\n",
    "\n",
    "In the next, this problem is solved using python, cython, numpy and numba. Moreover, a performance comparison is provided for various values of the number of discretization points."
   ]
  },
  {
   "cell_type": "code",
   "execution_count": 4,
   "metadata": {},
   "outputs": [
    {
     "name": "stderr",
     "output_type": "stream",
     "text": [
      "C:\\Users\\Marcellos\\Anaconda3\\lib\\site-packages\\matplotlib\\__init__.py:908: MatplotlibDeprecationWarning: The backend.qt4 rcParam was deprecated in version 2.2.  In order to force the use of a specific Qt binding, either import that binding first, or set the QT_API environment variable.\n",
      "  mplDeprecation)\n",
      "C:\\Users\\Marcellos\\Anaconda3\\lib\\site-packages\\matplotlib\\__init__.py:908: MatplotlibDeprecationWarning: The backend.qt4 rcParam was deprecated in version 2.2.  In order to force the use of a specific Qt binding, either import that binding first, or set the QT_API environment variable.\n",
      "  mplDeprecation)\n"
     ]
    },
    {
     "name": "stdout",
     "output_type": "stream",
     "text": [
      "Upgrade to   perfplot 0.4.0    available! (installed: 0.2.8)\n",
      "\n",
      "perfplot's API changes in this upgrade. Changes to your code may be necessary.\n",
      "\n",
      "To disable these checks, set SecondsBetweenChecks in C:\\Users\\Marcellos\\AppData\\Local\\pipdate\\pipdate\\config.ini to -1.\n"
     ]
    }
   ],
   "source": [
    "import numpy as np\n",
    "import dasslcy\n",
    "from functools import partial\n",
    "import perfplot\n",
    "import numba\n",
    "NPTS = 100\n",
    "dyn_solver = partial(dasslcy.solve, share_res=1)\n",
    "%load_ext Cython"
   ]
  },
  {
   "cell_type": "markdown",
   "metadata": {},
   "source": [
    "## Class for the model data"
   ]
  },
  {
   "cell_type": "code",
   "execution_count": 5,
   "metadata": {
    "collapsed": true
   },
   "outputs": [],
   "source": [
    "class pfr():\n",
    "    def __init__(self, N = 20):\n",
    "        self.D = 1.0\n",
    "        self.vz = 1.0\n",
    "        self.k = 1.0\n",
    "        self.Cf = 1.0\n",
    "        self.z0 = 0.0\n",
    "        self.zf = 1.0\n",
    "        self.N = N\n",
    "        self.h = self.get_h()\n",
    "\n",
    "    def get_h(self):\n",
    "        return (self.zf - self.z0) / self.N\n",
    "    \n",
    "def solver_setup_base(N):\n",
    "    par = pfr(N)\n",
    "    t0 = np.array([5.0])\n",
    "    y0 = np.zeros(par.N)\n",
    "    yp0 = None\n",
    "    atol = 1e-8\n",
    "    rtol = 1e-6\n",
    "    return [t0, y0, yp0, par, rtol, atol]"
   ]
  },
  {
   "cell_type": "markdown",
   "metadata": {},
   "source": [
    "## Pure Python\n",
    "\n",
    "Setting dynamic model and solving"
   ]
  },
  {
   "cell_type": "code",
   "execution_count": 6,
   "metadata": {
    "collapsed": true
   },
   "outputs": [],
   "source": [
    "def model_pfr(t, y, yp, par, res):\n",
    "    N = par.N\n",
    "    D, vz, k, Cf, h = par.D, par.vz, par.k, par.Cf, par.h\n",
    "    dCi = yp\n",
    "    Ci = y\n",
    "    aux1 = D / (vz * h)\n",
    "    C0 = 1.0 / (1.0 + aux1) * (aux1 * Ci[0] + Cf)\n",
    "    CNp1 = Ci[N - 1]\n",
    "    aux2 = D / h**2\n",
    "    aux3 = vz / (2 * h)\n",
    "    res[0] = aux2 * (Ci[1] - 2.0 * Ci[0] + C0) - \\\n",
    "        aux3 * (Ci[1] - C0) + k * Ci[0] - dCi[0]\n",
    "    for i in np.arange(1, N - 1):\n",
    "        tt1 = aux2 * (Ci[i + 1] - 2.0 * Ci[i] + Ci[i - 1])\n",
    "        tt2 = -aux3 * (Ci[i + 1] - Ci[i - 1]) + k * Ci[i]\n",
    "        res[i] = tt1 + tt2 - dCi[i]\n",
    "    res[N - 1] = aux2 * (CNp1 - 2.0 * Ci[N - 1] + Ci[N - 2]) - \\\n",
    "        aux3 * (CNp1 - Ci[N - 2]) + k * Ci[N - 1] - dCi[N - 1]\n",
    "    return res, 0"
   ]
  },
  {
   "cell_type": "code",
   "execution_count": 7,
   "metadata": {},
   "outputs": [
    {
     "name": "stdout",
     "output_type": "stream",
     "text": [
      "422 ms ± 165 ms per loop (mean ± std. dev. of 10 runs, 1 loop each)\n"
     ]
    }
   ],
   "source": [
    "base_args = solver_setup_base(NPTS)\n",
    "o = %timeit -r 10 -n 1 -o dyn_solver(model_pfr, *base_args) "
   ]
  },
  {
   "cell_type": "markdown",
   "metadata": {},
   "source": [
    "## Numpy broadcasting"
   ]
  },
  {
   "cell_type": "code",
   "execution_count": 8,
   "metadata": {
    "collapsed": true
   },
   "outputs": [],
   "source": [
    "def model_pfr_np(t, y, yp, par, res):\n",
    "    N = par.N\n",
    "    D, vz, k, Cf, h = par.D, par.vz, par.k, par.Cf, par.h\n",
    "    dCi = yp\n",
    "    Ci = y\n",
    "    aux1 = D / (vz * h)\n",
    "    C0 = 1.0 / (1.0 + aux1) * (aux1 * Ci[0] + Cf)\n",
    "    CNp1 = Ci[N - 1]\n",
    "    aux2 = D / h**2\n",
    "    aux3 = vz / (2 * h)\n",
    "    res[0] = aux2 * (Ci[1] - 2.0 * Ci[0] + C0) - \\\n",
    "        aux3 * (Ci[1] - C0) + k * Ci[0] - dCi[0]\n",
    "    tt1 = aux2 * (Ci[2:] - 2.0 * Ci[1:-1] + Ci[0:-2])\n",
    "    tt2 = -aux3 * (Ci[2:] - Ci[0:-2]) + k * Ci[1:-1]\n",
    "    res[1:-1] = tt1 + tt2 - dCi[1:-1]\n",
    "\n",
    "    res[N - 1] = aux2 * (CNp1 - 2.0 * Ci[N - 1] + Ci[N - 2]) - \\\n",
    "        aux3 * (CNp1 - Ci[N - 2]) + k * Ci[N - 1] - dCi[N - 1]\n",
    "    return res, 0"
   ]
  },
  {
   "cell_type": "code",
   "execution_count": 9,
   "metadata": {},
   "outputs": [
    {
     "name": "stdout",
     "output_type": "stream",
     "text": [
      "28.1 ms ± 2.31 ms per loop (mean ± std. dev. of 10 runs, 1 loop each)\n"
     ]
    }
   ],
   "source": [
    "o = %timeit -r 10 -n 1 -o dyn_solver(model_pfr_np, *base_args)"
   ]
  },
  {
   "cell_type": "markdown",
   "metadata": {},
   "source": [
    "## Cython Naive implementation"
   ]
  },
  {
   "cell_type": "code",
   "execution_count": 10,
   "metadata": {
    "collapsed": true
   },
   "outputs": [],
   "source": [
    "%%cython\n",
    "import numpy as np\n",
    "cimport numpy as np\n",
    "def model_pfr_cy(t, y, yp, par, res):\n",
    "    N = par.N\n",
    "    D, vz, k, Cf, h = par.D, par.vz, par.k, par.Cf, par.h\n",
    "    dCi = yp\n",
    "    Ci = y\n",
    "    aux1 = D / (vz * h)\n",
    "    C0 = 1.0 / (1.0 + aux1) * (aux1 * Ci[0] + Cf)\n",
    "    CNp1 = Ci[N - 1]\n",
    "    aux2 = D / h**2\n",
    "    aux3 = vz / (2 * h)\n",
    "    res[0] = aux2 * (Ci[1] - 2.0 * Ci[0] + C0) - \\\n",
    "        aux3 * (Ci[1] - C0) + k * Ci[0] - dCi[0]\n",
    "    for i in np.arange(1, N - 1):\n",
    "        tt1 = aux2 * (Ci[i + 1] - 2.0 * Ci[i] + Ci[i - 1])\n",
    "        tt2 = -aux3 * (Ci[i + 1] - Ci[i - 1]) + k * Ci[i]\n",
    "        res[i] = tt1 + tt2 - dCi[i]\n",
    "    res[N - 1] = aux2 * (CNp1 - 2.0 * Ci[N - 1] + Ci[N - 2]) - \\\n",
    "        aux3 * (CNp1 - Ci[N - 2]) + k * Ci[N - 1] - dCi[N - 1]\n",
    "    return res, 0"
   ]
  },
  {
   "cell_type": "code",
   "execution_count": 11,
   "metadata": {},
   "outputs": [
    {
     "name": "stdout",
     "output_type": "stream",
     "text": [
      "341 ms ± 15.4 ms per loop (mean ± std. dev. of 10 runs, 1 loop each)\n"
     ]
    }
   ],
   "source": [
    "o = %timeit -r 10 -n 1 -o dyn_solver(model_pfr_cy, *base_args)"
   ]
  },
  {
   "cell_type": "markdown",
   "metadata": {},
   "source": [
    "## Cython Typed Implementation"
   ]
  },
  {
   "cell_type": "code",
   "execution_count": 12,
   "metadata": {
    "scrolled": true
   },
   "outputs": [],
   "source": [
    "%%cython\n",
    "import numpy as np\n",
    "cimport numpy as np\n",
    "cimport cython \n",
    "\n",
    "#cython: boundscheck=False\n",
    "#cython: wraparound=False\n",
    "\n",
    "cdef class Pfr_Cython:\n",
    "    cdef:\n",
    "        double D, vz, k, Cf, z0, zf, h\n",
    "        int N\n",
    "    def __init__(self, N = 20):\n",
    "        self.N = N\n",
    "        self.D = 1.0\n",
    "        self.vz = 1.0\n",
    "        self.k = 1.0\n",
    "        self.Cf = 1.0\n",
    "        self.z0 = 0.0\n",
    "        self.zf = 1.0\n",
    "        self.h = self.get_h()\n",
    "    cdef get_h(self):\n",
    "        return (self.zf - self.z0) / self.N\n",
    "    \n",
    "    @cython.boundscheck(False)  # Deactivate bounds checking\n",
    "    @cython.wraparound(False)   # Deactivate negative indexing.\n",
    "    @cython.nonecheck(False)\n",
    "    @cython.cdivision(True)    \n",
    "    cdef cythonized_base_model_calculations(self, np.float64_t[:] res, np.float64_t[:] y, np.float64_t[:] yp,\n",
    "        int N, double D, double vz, double k, double Cf, double h):\n",
    "        cdef:\n",
    "            int i\n",
    "            double tt1, tt2\n",
    "        cdef np.float64_t[:] dCi = yp\n",
    "        cdef np.float64_t[:] Ci = y\n",
    "        cdef double aux1 = D / (vz * h)\n",
    "        cdef double C0 = 1.0 / (1.0 + aux1) * (aux1 * Ci[0] + Cf)\n",
    "        cdef double CNp1 = Ci[N - 1]\n",
    "        cdef double aux2 = D / h**2\n",
    "        cdef double aux3 = vz / (2 * h)\n",
    "        res[0] = aux2 * (Ci[1] - 2.0 * Ci[0] + C0) - \\\n",
    "            aux3 * (Ci[1] - C0) + k * Ci[0] - dCi[0]\n",
    "        for i in range(1, N - 1):\n",
    "            tt1 = aux2 * (Ci[i + 1] - 2.0 * Ci[i] + Ci[i - 1])\n",
    "            tt2 = -aux3 * (Ci[i + 1] - Ci[i - 1]) + k * Ci[i]\n",
    "            res[i] = tt1 + tt2 - dCi[i]\n",
    "        res[N - 1] = aux2 * (CNp1 - 2.0 * Ci[N - 1] + Ci[N - 2]) - \\\n",
    "            aux3 * (CNp1 - Ci[N - 2]) + k * Ci[N - 1] - dCi[N - 1]\n",
    "        pass\n",
    "    \n",
    "    @cython.boundscheck(False)  # Deactivate bounds checking\n",
    "    @cython.wraparound(False)   # Deactivate negative indexing. \n",
    "    @cython.nonecheck(False)\n",
    "    @cython.cdivision(True)\n",
    "    cpdef cython_model(self, double t, np.float64_t[:] y, np.float64_t[:] yp, np.float64_t[:] res):\n",
    "        self.cythonized_base_model_calculations(\n",
    "                res, y, yp, self.N, self.D, self.vz, self.k, self.Cf, self.h)\n",
    "        return res, 0"
   ]
  },
  {
   "cell_type": "code",
   "execution_count": 13,
   "metadata": {},
   "outputs": [
    {
     "name": "stdout",
     "output_type": "stream",
     "text": [
      "19.3 ms ± 7.55 ms per loop (mean ± std. dev. of 10 runs, 1 loop each)\n"
     ]
    }
   ],
   "source": [
    "#initialize_cy_pfr_model(NPTS)\n",
    "pr_Cy = Pfr_Cython(NPTS)\n",
    "cy_args = solver_setup_base(NPTS)\n",
    "cy_args[3] = None\n",
    "o = %timeit -r 10 -n 1 -o dyn_solver(pr_Cy.cython_model, *cy_args)"
   ]
  },
  {
   "cell_type": "markdown",
   "metadata": {},
   "source": [
    "## Numba\n",
    "\n",
    "- Create a function closure to define numba scoped variables"
   ]
  },
  {
   "cell_type": "code",
   "execution_count": 14,
   "metadata": {
    "collapsed": true
   },
   "outputs": [],
   "source": [
    "spec = [\n",
    "    ('N', numba.int32),\n",
    "    ('D', numba.float64),\n",
    "    ('vz', numba.float64),\n",
    "    ('k', numba.float64),\n",
    "    ('Cf', numba.float64),\n",
    "    ('z0', numba.float64),\n",
    "    ('zf', numba.float64),\n",
    "    ('h', numba.float64),\n",
    "]\n",
    "Numba_PFR = numba.jitclass(spec)(pfr)\n",
    "jitted_pfr_model = numba.jit(model_pfr, nopython=True)\n",
    "numba_pfr = Numba_PFR(NPTS)\n",
    "numba_args = solver_setup_base(NPTS)\n",
    "numba_args[3] = numba_pfr\n",
    "dyn_solver(jitted_pfr_model, *numba_args);"
   ]
  },
  {
   "cell_type": "code",
   "execution_count": 15,
   "metadata": {},
   "outputs": [
    {
     "name": "stdout",
     "output_type": "stream",
     "text": [
      "4.23 ms ± 462 µs per loop (mean ± std. dev. of 10 runs, 1 loop each)\n"
     ]
    }
   ],
   "source": [
    "o = %timeit -r 10 -n 1 -o dyn_solver(jitted_pfr_model, *numba_args)"
   ]
  },
  {
   "cell_type": "markdown",
   "metadata": {},
   "source": [
    "## Performance for discretization point "
   ]
  },
  {
   "cell_type": "code",
   "execution_count": 18,
   "metadata": {
    "collapsed": true
   },
   "outputs": [],
   "source": [
    "def setups_all(N):\n",
    "    base_args = solver_setup_base(N)\n",
    "    pr_Cy = Pfr_Cython(N)\n",
    "    cy_args = solver_setup_base(N)\n",
    "    cy_args[3] = None\n",
    "    numba_pfr = Numba_PFR(N)\n",
    "    numba_args = solver_setup_base(N)\n",
    "    numba_args[3] = numba_pfr      \n",
    "    return base_args, (pr_Cy, cy_args), numba_args\n",
    "\n",
    "def run_py(opts_setup):\n",
    "#     base_args = solver_setup_base(N)\n",
    "    dyn_solver(model_pfr, *opts_setup[0])\n",
    "    return 0\n",
    "\n",
    "# def setup_np(N):\n",
    "#     return solver_setup_base(N)\n",
    "\n",
    "def run_np(opts_setup):\n",
    "    dyn_solver(model_pfr_np, *opts_setup[0])\n",
    "    return 0\n",
    "\n",
    "def run_cy_naive(opts_setup):\n",
    "    #base_args = solver_setup_base(N)\n",
    "    dyn_solver(model_pfr_cy, *opts_setup[0])\n",
    "    return 0\n",
    "\n",
    "def run_cy_typed(opts_setup):\n",
    "    dyn_solver(opts_setup[1][0].cython_model, *opts_setup[1][1])\n",
    "    return 0\n",
    "\n",
    "def run_numba(opts_setup):\n",
    "    dyn_solver(jitted_pfr_model, *opts_setup[2])\n",
    "    return 0\n",
    "\n",
    "kernels = [run_np, run_cy_typed, run_numba]"
   ]
  },
  {
   "cell_type": "code",
   "execution_count": 19,
   "metadata": {},
   "outputs": [
    {
     "name": "stderr",
     "output_type": "stream",
     "text": [
      "  0%|                                                      | 0/3 [00:00<?, ?it/s]\n",
      "  0%|                                                      | 0/3 [00:00<?, ?it/s]\n",
      " 33%|███████████████▎                              | 1/3 [00:00<00:00,  3.47it/s]\n",
      " 67%|██████████████████████████████▋               | 2/3 [00:00<00:00,  4.37it/s]\n",
      " 33%|███████████████▎                              | 1/3 [00:00<00:01,  1.91it/s]\n",
      "  0%|                                                      | 0/3 [00:00<?, ?it/s]\n",
      " 33%|███████████████▎                              | 1/3 [00:22<00:44, 22.12s/it]\n",
      " 67%|██████████████████████████████▋               | 2/3 [00:32<00:16, 16.24s/it]\n",
      "100%|██████████████████████████████████████████████| 3/3 [00:37<00:00, 12.40s/it]\n",
      " 67%|██████████████████████████████▋               | 2/3 [00:38<00:19, 19.11s/it]\n",
      "  0%|                                                      | 0/3 [00:00<?, ?it/s]\n",
      " 33%|███████████████▎                              | 1/3 [00:51<01:43, 51.88s/it]\n",
      " 67%|██████████████████████████████▋               | 2/3 [01:19<00:39, 39.55s/it]\n",
      "100%|██████████████████████████████████████████████| 3/3 [01:37<00:00, 32.62s/it]\n",
      "100%|██████████████████████████████████████████████| 3/3 [02:17<00:00, 45.83s/it]\n"
     ]
    },
    {
     "data": {
      "image/png": "[encoded data removed]",
      "text/plain": [
       "<Figure size 432x288 with 1 Axes>"
      ]
     },
     "metadata": {},
     "output_type": "display_data"
    }
   ],
   "source": [
    "perfplot.show(\n",
    "    setup= setups_all,\n",
    "    kernels= kernels,\n",
    "    #labels=['py', 'np', 'cy_naive', 'cy_typed', 'numba'],\n",
    "    labels=['np', 'cy_typed', 'numba'],\n",
    "    n_range=[10*k for k in range(1, 100+10, 50)], #n_range=[2**k for k in range(1, 100 + 10, 10)],\n",
    "    xlabel='N'\n",
    "    )"
   ]
  },
  {
   "cell_type": "code",
   "execution_count": null,
   "metadata": {
    "collapsed": true
   },
   "outputs": [],
   "source": []
  }
 ],
 "metadata": {
  "kernelspec": {
   "display_name": "Python 3",
   "language": "python",
   "name": "python3"
  },
  "language_info": {
   "codemirror_mode": {
    "name": "ipython",
    "version": 3
   },
   "file_extension": ".py",
   "mimetype": "text/x-python",
   "name": "python",
   "nbconvert_exporter": "python",
   "pygments_lexer": "ipython3",
   "version": "3.5.3"
  },
  "latex_envs": {
   "LaTeX_envs_menu_present": true,
   "autocomplete": true,
   "bibliofile": "biblio.bib",
   "cite_by": "apalike",
   "current_citInitial": 1,
   "eqLabelWithNumbers": true,
   "eqNumInitial": 1,
   "hotkeys": {
    "equation": "Ctrl-E",
    "itemize": "Ctrl-I"
   },
   "labels_anchors": false,
   "latex_user_defs": false,
   "report_style_numbering": false,
   "user_envs_cfg": false
  },
  "toc": {
   "colors": {
    "hover_highlight": "#DAA520",
    "running_highlight": "#FF0000",
    "selected_highlight": "#FFD700"
   },
   "moveMenuLeft": true,
   "nav_menu": {
    "height": "191px",
    "width": "252px"
   },
   "navigate_menu": true,
   "number_sections": true,
   "sideBar": true,
   "skip_h1_title": false,
   "threshold": 4,
   "title_cell": "Table of Contents",
   "title_sidebar": "Contents",
   "toc_cell": false,
   "toc_position": {},
   "toc_section_display": "block",
   "toc_window_display": false,
   "widenNotebook": false
  },
  "varInspector": {
   "cols": {
    "lenName": 16,
    "lenType": 16,
    "lenVar": 40
   },
   "kernels_config": {
    "python": {
     "delete_cmd_postfix": "",
     "delete_cmd_prefix": "del ",
     "library": "var_list.py",
     "varRefreshCmd": "print(var_dic_list())"
    },
    "r": {
     "delete_cmd_postfix": ") ",
     "delete_cmd_prefix": "rm(",
     "library": "var_list.r",
     "varRefreshCmd": "cat(var_dic_list()) "
    }
   },
   "types_to_exclude": [
    "module",
    "function",
    "builtin_function_or_method",
    "instance",
    "_Feature"
   ],
   "window_display": false
  }
 },
 "nbformat": 4,
 "nbformat_minor": 2
}
